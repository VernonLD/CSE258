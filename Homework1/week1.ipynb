{
 "cells": [
  {
   "cell_type": "code",
   "execution_count": 13,
   "metadata": {
    "collapsed": true
   },
   "outputs": [],
   "source": [
    "import numpy #Matirx algebra\n",
    "import urllib #Read data from web\n",
    "import scipy.optimize #Optimization\n",
    "import random"
   ]
  },
  {
   "cell_type": "code",
   "execution_count": 14,
   "metadata": {
    "collapsed": true
   },
   "outputs": [],
   "source": [
    "def parseData(fname):\n",
    "    for l in urllib.urlopen(fname):\n",
    "        yield eval(l)"
   ]
  },
  {
   "cell_type": "code",
   "execution_count": 15,
   "metadata": {
    "collapsed": true
   },
   "outputs": [],
   "source": [
    "def parseDataFromFile(fname):\n",
    "    for l in open(fname):\n",
    "        yield eval(l)"
   ]
  },
  {
   "cell_type": "code",
   "execution_count": 16,
   "metadata": {},
   "outputs": [
    {
     "name": "stdout",
     "output_type": "stream",
     "text": [
      "Reading data...\n",
      "done\n"
     ]
    }
   ],
   "source": [
    "print \"Reading data...\"\n",
    "#data = list(parseData(\"http://jmcauley.ucsd.edu/cse190/data/beer/beer_50000.json\"))\n",
    "data = list(parseDataFromFile(\"/Users/Vernonld/Desktop/beer_50000.json\"))\n",
    "print \"done\""
   ]
  },
  {
   "cell_type": "code",
   "execution_count": 29,
   "metadata": {},
   "outputs": [
    {
     "name": "stdout",
     "output_type": "stream",
     "text": [
      "{'review/appearance': 4.0, 'review/timeUnix': 1293735206, 'beer/style': 'American Double / Imperial IPA', 'review/palate': 4.0, 'review/taste': 4.5, 'beer/name': 'Cauldron DIPA', 'review/text': \"According to the website, the style for the Caldera Cauldron changes every year. The current release is a DIPA, which frankly is the only cauldron I'm familiar with (it was an IPA/DIPA the last time I ordered a cauldron at the horsebrass several years back). In any event... at the Horse Brass yesterday.\\t\\tThe beer pours an orange copper color with good head retention and lacing. The nose is all hoppy IPA goodness, showcasing a huge aroma of dry citrus, pine and sandlewood. The flavor profile replicates the nose pretty closely in this West Coast all the way DIPA. This DIPA is not for the faint of heart and is a bit much even for a hophead like myslf. The finish is quite dry and hoppy, and there's barely enough sweet malt to balance and hold up the avalanche of hoppy bitterness in this beer. Mouthfeel is actually fairly light, with a long, persistentely bitter finish. Drinkability is good, with the alcohol barely noticeable in this well crafted beer. Still, this beer is so hugely hoppy/bitter, it's really hard for me to imagine ordering more than a single glass. Regardless, this is a very impressive beer from the folks at Caldera.\", 'user/gender': 'Male', 'user/birthdayRaw': 'Jun 16, 1901', 'beer/ABV': 7.7, 'beer/beerId': '64883', 'user/birthdayUnix': -2163081600, 'beer/brewerId': '1075', 'review/timeStruct': {'wday': 3, 'isdst': 0, 'mday': 30, 'hour': 18, 'min': 53, 'sec': 26, 'year': 2010, 'yday': 364, 'mon': 12}, 'review/overall': 4.0, 'user/ageInSeconds': 3581417047, 'user/profileName': 'johnmichaelsen', 'review/aroma': 4.5}\n"
     ]
    }
   ],
   "source": [
    "for d in data:\n",
    "    if d[\"beer/brewerId\"] == \"1075\":\n",
    "        print d\n",
    "        break"
   ]
  },
  {
   "cell_type": "code",
   "execution_count": 5,
   "metadata": {
    "collapsed": true
   },
   "outputs": [],
   "source": [
    "#Preprocessing Dataset in order to eliminate the unreasonable data with inaccurate age\n",
    "#data = [d for d in data if 'user/ageInSeconds' in d and d['user/ageInSeconds'] < 60*60*24*365*80]"
   ]
  },
  {
   "cell_type": "code",
   "execution_count": 6,
   "metadata": {
    "collapsed": true,
    "scrolled": true
   },
   "outputs": [],
   "source": [
    "def feature(datum):\n",
    "    feat = [1]\n",
    "    return feat\n"
   ]
  },
  {
   "cell_type": "markdown",
   "metadata": {},
   "source": [
    "# Question 1\n",
    "How many reviews are there for each style of beer in the dataset (‘beer/style’)? What is the average value of ‘review/taste’ for reviews from each style? (1 mark)"
   ]
  },
  {
   "cell_type": "code",
   "execution_count": 7,
   "metadata": {
    "collapsed": true,
    "scrolled": true
   },
   "outputs": [],
   "source": [
    "beer_dic = {}\n",
    "beer_review = {}\n",
    "beer_avg = {}\n",
    "beer_type = set([d['beer/style'] for d in data])\n",
    "for beer in beer_type:\n",
    "    if beer not in beer_dic:\n",
    "        beer_dic[beer] = 0\n",
    "    if beer not in beer_review:\n",
    "        beer_review[beer] = 0    \n",
    "    for d in data:\n",
    "        if d['beer/style'] == beer:\n",
    "            beer_dic[beer] += 1\n",
    "            beer_review[beer] += d['review/taste']\n",
    "\n",
    "for beer in beer_dic:\n",
    "    beer_avg[beer] = beer_review[beer] / beer_dic[beer]\n",
    "    "
   ]
  },
  {
   "cell_type": "code",
   "execution_count": 8,
   "metadata": {},
   "outputs": [
    {
     "name": "stdout",
     "output_type": "stream",
     "text": [
      "beer/style                               Number         \n",
      "Tripel                                   257             \n",
      "American Black Ale                       138             \n",
      "Fruit / Vegetable Beer                   1355            \n",
      "English Brown Ale                        495             \n",
      "American Pale Ale (APA)                  2288            \n",
      "American Amber / Red Lager               42              \n",
      "Chile Beer                               11              \n",
      "Cream Ale                                69              \n",
      "Dubbel                                   165             \n",
      "English Dark Mild Ale                    21              \n",
      "Belgian Strong Pale Ale                  632             \n",
      "Weizenbock                               13              \n",
      "Milk / Sweet Stout                       69              \n",
      "Dunkelweizen                             61              \n",
      "Belgian Strong Dark Ale                  146             \n",
      "Foreign / Export Stout                   55              \n",
      "American Porter                          2230            \n",
      "American Double / Imperial Pilsner       14              \n",
      "Euro Pale Lager                          701             \n",
      "Pumpkin Ale                              560             \n",
      "Munich Dunkel Lager                      141             \n",
      "Maibock / Helles Bock                    225             \n",
      "Belgian Pale Ale                         144             \n",
      "Irish Dry Stout                          101             \n",
      "Märzen / Oktoberfest                    557             \n",
      "California Common / Steam Beer           11              \n",
      "Vienna Lager                             33              \n",
      "Oatmeal Stout                            102             \n",
      "Bière de Garde                          7               \n",
      "Doppelbock                               873             \n",
      "American Adjunct Lager                   242             \n",
      "Wheatwine                                455             \n",
      "Scottish Ale                             78              \n",
      "English Porter                           367             \n",
      "Saison / Farmhouse Ale                   141             \n",
      "Altbier                                  165             \n",
      "English India Pale Ale (IPA)             175             \n",
      "Low Alcohol Beer                         7               \n",
      "Dortmunder / Export Lager                31              \n",
      "English Bitter                           267             \n",
      "Smoked Beer                              61              \n",
      "Lambic - Fruit                           6               \n",
      "Munich Helles Lager                      650             \n",
      "American Barleywine                      825             \n",
      "Baltic Porter                            514             \n",
      "Belgian Dark Ale                         175             \n",
      "Rauchbier                                1938            \n",
      "American Strong Ale                      166             \n",
      "Euro Strong Lager                        329             \n",
      "English Pale Ale                         1324            \n",
      "Herbed / Spiced Beer                     73              \n",
      "Bock                                     148             \n",
      "Euro Dark Lager                          144             \n",
      "American IPA                             4113            \n",
      "Lambic - Unblended                       10              \n",
      "English Barleywine                       133             \n",
      "American Dark Wheat Ale                  14              \n",
      "Keller Bier / Zwickel Bier               23              \n",
      "Hefeweizen                               618             \n",
      "English Stout                            136             \n",
      "American Pale Lager                      123             \n",
      "Belgian IPA                              128             \n",
      "American Brown Ale                       314             \n",
      "Braggot                                  26              \n",
      "American Double / Imperial IPA           3886            \n",
      "Irish Red Ale                            83              \n",
      "American Wild Ale                        98              \n",
      "English Pale Mild Ale                    21              \n",
      "Quadrupel (Quad)                         119             \n",
      "Light Lager                              503             \n",
      "Russian Imperial Stout                   2695            \n",
      "Flanders Oud Bruin                       13              \n",
      "Berliner Weissbier                       10              \n",
      "Scottish Gruit / Ancient Herbed Ale      65              \n",
      "Extra Special / Strong Bitter (ESB)      667             \n",
      "American Double / Imperial Stout         5964            \n",
      "Scotch Ale / Wee Heavy                   2776            \n",
      "Winter Warmer                            259             \n",
      "Old Ale                                  1052            \n",
      "German Pilsener                          586             \n",
      "Kölsch                                  94              \n",
      "Black & Tan                              122             \n",
      "Flanders Red Ale                         2               \n",
      "American Malt Liquor                     90              \n",
      "Schwarzbier                              53              \n",
      "Kristalweizen                            7               \n",
      "American Amber / Red Ale                 665             \n",
      "American Pale Wheat Ale                  154             \n",
      "Rye Beer                                 1798            \n",
      "English Strong Ale                       164             \n",
      "American Blonde Ale                      357             \n",
      "American Stout                           591             \n",
      "Czech Pilsener                           1501            \n",
      "Eisbock                                  8               \n",
      "Witbier                                  162             \n"
     ]
    }
   ],
   "source": [
    "print \"{:<40} {:<15}\".format('beer/style','Number')\n",
    "for k, v in beer_dic.iteritems():\n",
    "    print \"{:<40} {:<15} \".format(k, v)"
   ]
  },
  {
   "cell_type": "code",
   "execution_count": 9,
   "metadata": {},
   "outputs": [
    {
     "name": "stdout",
     "output_type": "stream",
     "text": [
      "beer/style                               review/taste/average\n",
      "Tripel                                   3.78404669261   \n",
      "American Black Ale                       3.8731884058    \n",
      "Fruit / Vegetable Beer                   3.60774907749   \n",
      "English Brown Ale                        3.72828282828   \n",
      "American Pale Ale (APA)                  3.64969405594   \n",
      "American Amber / Red Lager               3.69047619048   \n",
      "Chile Beer                               3.95454545455   \n",
      "Cream Ale                                3.02898550725   \n",
      "Dubbel                                   3.73636363636   \n",
      "English Dark Mild Ale                    3.78571428571   \n",
      "Belgian Strong Pale Ale                  4.05617088608   \n",
      "Weizenbock                               3.38461538462   \n",
      "Milk / Sweet Stout                       3.78260869565   \n",
      "Dunkelweizen                             3.49180327869   \n",
      "Belgian Strong Dark Ale                  3.69520547945   \n",
      "Foreign / Export Stout                   3.25454545455   \n",
      "Low Alcohol Beer                         2.71428571429   \n",
      "Euro Pale Lager                          2.96291012839   \n",
      "Pumpkin Ale                              3.7875          \n",
      "Munich Dunkel Lager                      3.78014184397   \n",
      "Maibock / Helles Bock                    3.74666666667   \n",
      "Belgian Pale Ale                         3.73958333333   \n",
      "Irish Dry Stout                          3.62376237624   \n",
      "Märzen / Oktoberfest                    3.5933572711    \n",
      "California Common / Steam Beer           3.31818181818   \n",
      "American Porter                          4.08183856502   \n",
      "Vienna Lager                             3.5303030303    \n",
      "Oatmeal Stout                            3.77450980392   \n",
      "Bière de Garde                          3.92857142857   \n",
      "Doppelbock                               3.98281786942   \n",
      "American Adjunct Lager                   2.94834710744   \n",
      "Wheatwine                                4.18681318681   \n",
      "Scottish Ale                             3.76282051282   \n",
      "English Porter                           3.70708446866   \n",
      "Czech Pilsener                           3.60959360426   \n",
      "American Double / Imperial Pilsner       3.82142857143   \n",
      "Altbier                                  3.40303030303   \n",
      "English India Pale Ale (IPA)             3.47142857143   \n",
      "Dortmunder / Export Lager                3.41935483871   \n",
      "English Bitter                           3.53745318352   \n",
      "Smoked Beer                              3.19672131148   \n",
      "Lambic - Fruit                           3.75            \n",
      "Munich Helles Lager                      3.95923076923   \n",
      "American Barleywine                      4.06424242424   \n",
      "Baltic Porter                            4.21303501946   \n",
      "Belgian Dark Ale                         3.34            \n",
      "Rauchbier                                4.06785345717   \n",
      "Hefeweizen                               3.63511326861   \n",
      "Euro Strong Lager                        2.84802431611   \n",
      "English Pale Ale                         3.48376132931   \n",
      "Herbed / Spiced Beer                     3.44520547945   \n",
      "Bock                                     3.18918918919   \n",
      "Euro Dark Lager                          3.70486111111   \n",
      "American IPA                             4.00085096037   \n",
      "Lambic - Unblended                       3.3             \n",
      "English Barleywine                       4.36090225564   \n",
      "American Dark Wheat Ale                  3.67857142857   \n",
      "Keller Bier / Zwickel Bier               3.86956521739   \n",
      "American Strong Ale                      3.56927710843   \n",
      "English Stout                            3.59926470588   \n",
      "American Pale Lager                      3.21544715447   \n",
      "Belgian IPA                              3.94921875      \n",
      "American Brown Ale                       3.74363057325   \n",
      "Braggot                                  3.80769230769   \n",
      "American Double / Imperial IPA           4.03332475553   \n",
      "American Wild Ale                        4.1887755102    \n",
      "English Pale Mild Ale                    3.59523809524   \n",
      "Quadrupel (Quad)                         3.59663865546   \n",
      "Light Lager                              2.39662027833   \n",
      "Russian Imperial Stout                   4.30037105751   \n",
      "Flanders Oud Bruin                       3.92307692308   \n",
      "Berliner Weissbier                       3.55            \n",
      "Scottish Gruit / Ancient Herbed Ale      3.90769230769   \n",
      "Extra Special / Strong Bitter (ESB)      3.68515742129   \n",
      "American Double / Imperial Stout         4.47996311201   \n",
      "Scotch Ale / Wee Heavy                   4.08339337176   \n",
      "Winter Warmer                            3.62162162162   \n",
      "Old Ale                                  4.09600760456   \n",
      "German Pilsener                          3.66723549488   \n",
      "Kölsch                                  3.69680851064   \n",
      "Black & Tan                              3.94262295082   \n",
      "Flanders Red Ale                         3.25            \n",
      "American Malt Liquor                     2.25555555556   \n",
      "Irish Red Ale                            2.98192771084   \n",
      "Kristalweizen                            2.78571428571   \n",
      "American Amber / Red Ale                 3.51353383459   \n",
      "American Pale Wheat Ale                  3.33441558442   \n",
      "Rye Beer                                 4.21357063404   \n",
      "English Strong Ale                       3.75609756098   \n",
      "American Blonde Ale                      3.25490196078   \n",
      "Witbier                                  3.52777777778   \n",
      "American Stout                           3.81979695431   \n",
      "Schwarzbier                              3.62264150943   \n",
      "Eisbock                                  3.75            \n",
      "Saison / Farmhouse Ale                   3.70212765957   \n"
     ]
    }
   ],
   "source": [
    "print \"{:<40} {:<15}\".format('beer/style','review/taste/average')\n",
    "for k, v in beer_avg.iteritems():\n",
    "    print \"{:<40} {:<15} \".format(k, v)"
   ]
  },
  {
   "cell_type": "markdown",
   "metadata": {},
   "source": [
    "# Question 2\n",
    "Train a simple predictor with a single binary feature indicating whether a beer is an ‘American IPA’: review/taste ≃ θ0 + θ1 × [beer is an American IPA]\n",
    "Report the values of θ0 and θ1. Briefly describe your interpretation of these values, i.e., what do θ0 and θ1 represent (1 mark)?\n",
    "\n",
    "* _θ0 is the average review scores of beers other than AmericanIPA, θ1 is the average score that AmericanIPA is higher than others_ *"
   ]
  },
  {
   "cell_type": "code",
   "execution_count": 10,
   "metadata": {
    "scrolled": true
   },
   "outputs": [
    {
     "name": "stdout",
     "output_type": "stream",
     "text": [
      "[ 3.91520474  0.08564622]\n"
     ]
    }
   ],
   "source": [
    "### TASK2 2\n",
    "def feature(datum):\n",
    "    feat = [1]\n",
    "    if datum['beer/style'] == 'American IPA':\n",
    "        feat.append(1)\n",
    "    else:\n",
    "        feat.append(0)\n",
    "    return feat\n",
    "\n",
    "data3 = [d for d in data]\n",
    "x = [feature(d) for d in data3]\n",
    "y = [d['review/taste'] for d in data3]\n",
    "theta,residuals,rank,s = numpy.linalg.lstsq(x, y)\n",
    "print theta"
   ]
  },
  {
   "cell_type": "markdown",
   "metadata": {},
   "source": [
    "# Question 3\n",
    "Split the data into two equal fractions – the first half for training, the second half for testing (based on the order they appear in the file). Train the same model as above on the training set only. What is the model’s MSE on the training and on the test set (1 mark)?"
   ]
  },
  {
   "cell_type": "code",
   "execution_count": 11,
   "metadata": {
    "scrolled": false
   },
   "outputs": [
    {
     "name": "stdout",
     "output_type": "stream",
     "text": [
      "0.468410050967 [ 0.55810729]\n"
     ]
    }
   ],
   "source": [
    "### TASK3\n",
    "# X = numpy.matrix(X)\n",
    "# y = numpy.matrix(y)\n",
    "# print numpy.linalg.inv(X.T * X) * X.T * y.T\n",
    "def mse(theta, x, y):\n",
    "    theta = numpy.matrix(theta)\n",
    "    x     = numpy.matrix(x)\n",
    "    y     = numpy.matrix(y)\n",
    "    mse = (numpy.square(y.T - (x * theta.T))).mean(axis=None)\n",
    "    return mse\n",
    "\n",
    "    \n",
    "data3 = [d for d in data]\n",
    "x = [feature(d) for d in data3]\n",
    "y = [d['review/taste'] for d in data3]\n",
    "theta,residuals,rank,s = numpy.linalg.lstsq(x[:25000], y[:25000])\n",
    "mse_train = residuals/25000\n",
    "mse_test  = mse(theta, x[25000:], y[25000:])\n",
    "print mse_test, mse_train\n",
    "\n",
    "        "
   ]
  },
  {
   "cell_type": "markdown",
   "metadata": {},
   "source": [
    "# Question 4\n",
    "Extend the model above so that it incorporates binary features for every style of beer with ≥ 50 reviews. Report the values of θ that you obtain, and the model’s MSE on the training and on the test set (1 mark)."
   ]
  },
  {
   "cell_type": "code",
   "execution_count": 12,
   "metadata": {},
   "outputs": [
    {
     "name": "stdout",
     "output_type": "stream",
     "text": [
      "[  3.60681818e+00  -2.07766643e+11   6.00738041e-02   2.02974651e-01\n",
      "   1.13172196e-01   3.88227610e-02   2.70859595e-02  -6.62633274e-01\n",
      "   1.41622086e-01   4.68242645e-01   7.10627325e-01   2.56204665e-01\n",
      "   1.24126434e-01  -3.13223499e-01   3.30821991e-01  -9.20299530e-01\n",
      "   2.67143250e-01  -5.21030650e-01  -9.81678516e-02   1.63909435e-01\n",
      "   2.32016206e-01  -2.23141193e-01   1.49784446e-01  -4.14722919e-01\n",
      "  -7.43757725e-01   2.18113661e-02   2.76198268e-01   9.82036591e-02\n",
      "   2.09256411e-01  -1.84951305e-01  -1.32707596e-01  -2.53467560e-02\n",
      "  -4.73805785e-01  -2.38751829e-01   4.56432343e-01   6.48686856e-01\n",
      "  -2.68540859e-01   4.44286048e-01  -1.77109241e-01  -8.23332787e-01\n",
      "  -3.18038940e-01  -3.96466821e-01  -7.40783215e-01   1.11326933e-01\n",
      "   2.07766643e+11   7.64946461e-01  -5.77926636e-03  -1.04284763e-01\n",
      "  -5.80929339e-01   3.42063427e-01   2.67836571e-01   3.35987091e-01\n",
      "  -6.40163660e-01   5.87407589e-01   3.92505907e-01  -1.23380470e+00\n",
      "   6.95693970e-01   3.80527377e-01   1.41955376e-01   8.41644287e-01\n",
      "   4.85481262e-01   1.07984543e-02   6.14631951e-01  -6.18329376e-01\n",
      "   9.66384411e-02   3.38546276e-01  -1.00002977e+00   1.33932650e-01\n",
      "  -1.16270065e-01  -1.76575422e-01   3.76782417e-01   1.24997139e-01\n",
      "  -4.57945824e-01   2.03184128e-01  -2.96199799e-01  -9.06772614e-02]\n",
      "[ 0.36784025] 0.434583812942\n"
     ]
    }
   ],
   "source": [
    "###Task4\n",
    "def feature(datum):\n",
    "    feat = [1]\n",
    "    if datum['beer/style'] == 'American IPA':\n",
    "        feat.append(1)\n",
    "    else:\n",
    "        feat.append(0)\n",
    "    for beer in beer_dic:\n",
    "        if beer_dic[beer] > 50:\n",
    "            if datum['beer/style'] == beer:\n",
    "                feat.append(1)\n",
    "            else :\n",
    "                feat.append(0)\n",
    "    return feat\n",
    "\n",
    "data4 = [d for d in data]\n",
    "x = [feature(d) for d in data4]\n",
    "y = [d['review/taste'] for d in data4]\n",
    "theta,residuals,rank,s = numpy.linalg.lstsq(x[:25000], y[:25000])\n",
    "mse_train = residuals/25000\n",
    "mse_test  = mse(theta, x[25000:], y[25000:])\n",
    "print theta\n",
    "print mse_train, mse_test\n",
    "    "
   ]
  }
 ],
 "metadata": {
  "kernelspec": {
   "display_name": "Python 2",
   "language": "python",
   "name": "python2"
  },
  "language_info": {
   "codemirror_mode": {
    "name": "ipython",
    "version": 2
   },
   "file_extension": ".py",
   "mimetype": "text/x-python",
   "name": "python",
   "nbconvert_exporter": "python",
   "pygments_lexer": "ipython2",
   "version": "2.7.13"
  }
 },
 "nbformat": 4,
 "nbformat_minor": 2
}
